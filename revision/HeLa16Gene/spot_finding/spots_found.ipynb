{
 "cells": [
  {
   "cell_type": "code",
   "execution_count": 1,
   "metadata": {},
   "outputs": [],
   "source": [
    "from starmap.sequencing import *\n",
    "import numpy as np\n",
    "# from spatial_funcs import *\n",
    "import napari\n",
    "import tifffile"
   ]
  },
  {
   "cell_type": "code",
   "execution_count": 2,
   "metadata": {},
   "outputs": [],
   "source": [
    "# fpath = '/stanley/WangLab/Data/Processed/2022-09-12-Rena-HeLa16Gene/output/test'\n",
    "fpath = 'Z:/Data/Processed/2022-09-12-Rena-HeLa16Gene/output/2022-09-14-spot-finding'\n",
    "test_tile = 'Position150'"
   ]
  },
  {
   "cell_type": "code",
   "execution_count": 3,
   "metadata": {},
   "outputs": [],
   "source": [
    "def load_tile_reads(fpath, reads_file):\n",
    "    S = loadmat(os.path.join(fpath, reads_file))\n",
    "    bases = [str(i[0][0]) for i in S[\"tile_goodReads\"]]\n",
    "    points = S[\"tile_goodSpots\"]\n",
    "    temp = np.zeros(points.shape)\n",
    "    temp[:, 0] = np.round(points[:, 2]-1)\n",
    "    temp[:, 1] = np.round(points[:, 1]-1)\n",
    "    temp[:, 2] = np.round(points[:, 0]-1)\n",
    "\n",
    "    print(f\"Number of reads: {len(bases)}\")\n",
    "\n",
    "    return bases, temp\n",
    "\n",
    "def load_tile_allReads(fpath, reads_file):\n",
    "    S = loadmat(os.path.join(fpath, reads_file))\n",
    "    bases = [str(i[0][0]) for i in S[\"tile_allReads\"]]\n",
    "    points = S[\"tile_allSpots\"]\n",
    "    temp = np.zeros(points.shape)\n",
    "    temp[:, 0] = np.round(points[:, 2]-1)\n",
    "    temp[:, 1] = np.round(points[:, 1]-1)\n",
    "    temp[:, 2] = np.round(points[:, 0]-1)\n",
    "\n",
    "    print(f\"Number of reads: {len(bases)}\")\n",
    "\n",
    "    return bases, temp"
   ]
  },
  {
   "cell_type": "code",
   "execution_count": 5,
   "metadata": {},
   "outputs": [
    {
     "name": "stdout",
     "output_type": "stream",
     "text": [
      "Number of reads: 3533\n"
     ]
    },
    {
     "data": {
      "text/plain": [
       "array([[   5.,  715.,  430.],\n",
       "       [   5.,  368.,  713.],\n",
       "       [   5.,  479.,  754.],\n",
       "       ...,\n",
       "       [  23., 1836., 1232.],\n",
       "       [  24., 1748., 1090.],\n",
       "       [  24., 1468., 1437.]])"
      ]
     },
     "execution_count": 5,
     "metadata": {},
     "output_type": "execute_result"
    }
   ],
   "source": [
    "_, goodPoints = load_tile_reads(os.path.join(fpath, test_tile), 'goodPoints_max3d.mat')\n",
    "goodPoints"
   ]
  },
  {
   "cell_type": "code",
   "execution_count": 7,
   "metadata": {},
   "outputs": [
    {
     "name": "stdout",
     "output_type": "stream",
     "text": [
      "Number of reads: 25798\n"
     ]
    },
    {
     "data": {
      "text/plain": [
       "array([[   7.,  820.,  630.],\n",
       "       [   7.,  722.,  756.],\n",
       "       [   7.,  997.,  839.],\n",
       "       ...,\n",
       "       [  26., 1229., 2035.],\n",
       "       [  27., 1080., 1315.],\n",
       "       [  27., 1048., 1691.]])"
      ]
     },
     "execution_count": 7,
     "metadata": {},
     "output_type": "execute_result"
    }
   ],
   "source": [
    "_, allPoints = load_tile_allReads(os.path.join(fpath, test_tile), 'allPoints_max3d.mat')\n",
    "allPoints"
   ]
  },
  {
   "cell_type": "code",
   "execution_count": 7,
   "metadata": {},
   "outputs": [],
   "source": [
    "# fig = plt.figure(figsize=(12, 12))\n",
    "# ax = fig.add_subplot(projection='3d')\n",
    "# ax.scatter(goodPoints[:,0], goodPoints[:,1], goodPoints[:,2])"
   ]
  },
  {
   "cell_type": "code",
   "execution_count": 8,
   "metadata": {},
   "outputs": [
    {
     "data": {
      "text/plain": [
       "(35, 2048, 2048)"
      ]
     },
     "execution_count": 8,
     "metadata": {},
     "output_type": "execute_result"
    }
   ],
   "source": [
    "round1_merged = tifffile.imread(os.path.join(fpath, 'round1_merged', test_tile+'.tif'))\n",
    "round1_merged.shape"
   ]
  },
  {
   "cell_type": "code",
   "execution_count": 9,
   "metadata": {},
   "outputs": [
    {
     "data": {
      "text/plain": [
       "(34.0, 2047.0, 2042.0)"
      ]
     },
     "execution_count": 9,
     "metadata": {},
     "output_type": "execute_result"
    }
   ],
   "source": [
    "max(goodPoints[:,0]), max(goodPoints[:,1]), max(goodPoints[:,2])"
   ]
  },
  {
   "cell_type": "code",
   "execution_count": 10,
   "metadata": {},
   "outputs": [
    {
     "name": "stderr",
     "output_type": "stream",
     "text": [
      "c:\\Users\\wangk\\.conda\\envs\\connie\\lib\\site-packages\\numpy\\core\\numeric.py:2446: FutureWarning: elementwise comparison failed; returning scalar instead, but in the future will perform elementwise comparison\n",
      "  return bool(asarray(a1 == a2).all())\n",
      "c:\\Users\\wangk\\.conda\\envs\\connie\\lib\\site-packages\\numpy\\core\\numeric.py:2446: FutureWarning: elementwise comparison failed; returning scalar instead, but in the future will perform elementwise comparison\n",
      "  return bool(asarray(a1 == a2).all())\n"
     ]
    },
    {
     "data": {
      "text/plain": [
       "<Points layer 'allPoints' at 0x2404d274f70>"
      ]
     },
     "execution_count": 10,
     "metadata": {},
     "output_type": "execute_result"
    }
   ],
   "source": [
    "# viewer = napari.view_image(np.ones((45, 2048, 2048)))\n",
    "# viewer.add_image(round1_merged)\n",
    "viewer = napari.view_image(round1_merged)\n",
    "viewer.add_points(goodPoints, size=2)\n",
    "viewer.add_points(allPoints, size=2)"
   ]
  },
  {
   "cell_type": "markdown",
   "metadata": {},
   "source": [
    "### on segmentation mask"
   ]
  },
  {
   "cell_type": "code",
   "execution_count": 3,
   "metadata": {},
   "outputs": [],
   "source": [
    "# Load reads and their positions from mat file\n",
    "def load_reads(fpath, reads_file):\n",
    "    S = loadmat(os.path.join(fpath, reads_file))\n",
    "    bases = [str(i[0][0]) for i in S[\"merged_reads\"]]\n",
    "    points = S[\"merged_points\"]\n",
    "    temp = np.zeros(points.shape)\n",
    "    temp[:, 0] = np.round(points[:, 2]-1) \n",
    "    temp[:, 1] = np.round(points[:, 1]-1)\n",
    "    temp[:, 2] = np.round(points[:, 0]-1)\n",
    "    \n",
    "    print(f\"Number of reads: {len(bases)}\")\n",
    "    \n",
    "    return bases, temp"
   ]
  },
  {
   "cell_type": "code",
   "execution_count": 4,
   "metadata": {},
   "outputs": [
    {
     "name": "stdout",
     "output_type": "stream",
     "text": [
      "Number of reads: 154901\n"
     ]
    }
   ],
   "source": [
    "ppath = 'Z:/Data/Processed/2022-09-12-Rena-HeLa16Gene/'\n",
    "opath = os.path.join(ppath, 'output')\n",
    "area_num = 3\n",
    "bases, points = load_reads(os.path.join(opath, '2022-09-22-merged-points', f'Area_{area_num}'), \"merged_goodPoints.mat\")\n",
    "seg_path = os.path.join(opath, '2022-09-28-3D-segmentation', f'Area_{area_num}')\n",
    "current_seg = tifffile.imread(os.path.join(seg_path, 'cell.tif'))"
   ]
  },
  {
   "cell_type": "code",
   "execution_count": 5,
   "metadata": {},
   "outputs": [
    {
     "data": {
      "text/plain": [
       "<Points layer 'points' at 0x29c77a7a670>"
      ]
     },
     "execution_count": 5,
     "metadata": {},
     "output_type": "execute_result"
    }
   ],
   "source": [
    "viewer = napari.view_image(current_seg)\n",
    "viewer.add_points(points, size=2)"
   ]
  }
 ],
 "metadata": {
  "interpreter": {
   "hash": "0774c9394a1aea0cca30f13f7f373026b44b800bfe001e3b93c40d9a34a50f91"
  },
  "kernelspec": {
   "display_name": "Python 3 (ipykernel)",
   "language": "python",
   "name": "python3"
  },
  "language_info": {
   "codemirror_mode": {
    "name": "ipython",
    "version": 3
   },
   "file_extension": ".py",
   "mimetype": "text/x-python",
   "name": "python",
   "nbconvert_exporter": "python",
   "pygments_lexer": "ipython3",
   "version": "3.8.12"
  },
  "orig_nbformat": 4
 },
 "nbformat": 4,
 "nbformat_minor": 2
}
